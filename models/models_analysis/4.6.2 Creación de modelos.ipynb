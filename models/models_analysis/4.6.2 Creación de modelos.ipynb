{
 "cells": [
  {
   "cell_type": "markdown",
   "source": [
    "# 4.6.2 Creación de modelos\n",
    "## Configuración inicial"
   ],
   "metadata": {}
  },
  {
   "cell_type": "markdown",
   "source": [
    "### Importando librerías y cargando los datos"
   ],
   "metadata": {}
  },
  {
   "cell_type": "code",
   "execution_count": 1,
   "source": [
    "import IPython\r\n",
    "import IPython.display\r\n",
    "import matplotlib as mpl\r\n",
    "import matplotlib.pyplot as plt\r\n",
    "import numpy as np\r\n",
    "import pandas as pd\r\n",
    "import tensorflow as tf\r\n",
    "\r\n",
    "mpl.rcParams['figure.figsize'] = (6, 4)\r\n",
    "mpl.rcParams['axes.grid'] = False\r\n",
    "\r\n",
    "from keras.datasets import imdb\r\n",
    "from keras import models, layers, optimizers\r\n",
    "\r\n",
    "import json, os"
   ],
   "outputs": [],
   "metadata": {}
  },
  {
   "cell_type": "code",
   "execution_count": 2,
   "source": [
    "data_file = os.getcwd() + \"/in_models/historical_data_to_model_2.csv\"\r\n",
    "df = pd.read_csv(data_file, low_memory=False)\r\n",
    "label = 'AQI'\r\n",
    "df.shape"
   ],
   "outputs": [
    {
     "output_type": "execute_result",
     "data": {
      "text/plain": [
       "(17141, 21)"
      ]
     },
     "metadata": {},
     "execution_count": 2
    }
   ],
   "metadata": {}
  },
  {
   "cell_type": "code",
   "execution_count": 3,
   "source": [
    "OUT_STEPS = 3\r\n",
    "INPUT_WIDTH = 24 "
   ],
   "outputs": [],
   "metadata": {}
  },
  {
   "cell_type": "code",
   "execution_count": 4,
   "source": [
    "df.columns"
   ],
   "outputs": [
    {
     "output_type": "execute_result",
     "data": {
      "text/plain": [
       "Index(['AQI', 'weekday', 'speed', 'travel_time', 'Minimum Temperature',\n",
       "       'Maximum Temperature', 'Temperature', 'Dew Point', 'Relative Humidity',\n",
       "       'Precipitation', 'Snow Depth', 'Visibility', 'Cloud Cover',\n",
       "       'Sea Level Pressure', 'Conditions', 'Wx', 'Wy', 'Day sin', 'Day cos',\n",
       "       'Year sin', 'Year cos'],\n",
       "      dtype='object')"
      ]
     },
     "metadata": {},
     "execution_count": 4
    }
   ],
   "metadata": {}
  },
  {
   "cell_type": "markdown",
   "source": [
    "### División de los datos\n",
    "Se hace una división (70%, 20%, 10%) para los conjuntos de entrenamiento, validación y prueba respectivamente."
   ],
   "metadata": {}
  },
  {
   "cell_type": "code",
   "execution_count": 5,
   "source": [
    "column_indices = {name: i for i, name in enumerate(df.columns)}\r\n",
    "\r\n",
    "n = len(df)\r\n",
    "train_df = df[0:int(n*0.7)]\r\n",
    "val_df = df[int(n*0.7):int(n*0.9)]\r\n",
    "test_df = df[int(n*0.9):]\r\n",
    "\r\n",
    "num_features = df.shape[1]"
   ],
   "outputs": [],
   "metadata": {}
  },
  {
   "cell_type": "code",
   "execution_count": 6,
   "source": [
    "print(\"Train: \", train_df.shape)\r\n",
    "print(\"Validation: \", val_df.shape)\r\n",
    "print(\"Test: \", test_df.shape)"
   ],
   "outputs": [
    {
     "output_type": "stream",
     "name": "stdout",
     "text": [
      "Train:  (11998, 21)\n",
      "Validation:  (3428, 21)\n",
      "Test:  (1715, 21)\n"
     ]
    }
   ],
   "metadata": {}
  },
  {
   "cell_type": "markdown",
   "source": [
    "### Normalizar los datos\r\n",
    "Se guardan los datos de entreno en un CSV aparte, ya que estos son los datos que se utilizarán para normalizar cualquier dato que se le proporcione al modelo.\r\n",
    "\r\n",
    "### IMPORTANTE\r\n",
    "Este documento es el utilizado por los métodos reponsables de reentrenar y ejecutar los modelos en tiempo real para normalizar los datos"
   ],
   "metadata": {}
  },
  {
   "cell_type": "code",
   "execution_count": 7,
   "source": [
    "train_path = os.getcwd().split(\"TFG\")[0] + \"TFG\\\\in\\\\normalize_data\\\\train_data_all_models.csv\"\r\n",
    "train_df.to_csv(train_path, index=False)"
   ],
   "outputs": [],
   "metadata": {}
  },
  {
   "cell_type": "code",
   "execution_count": 8,
   "source": [
    "train_mean = train_df.mean()\r\n",
    "train_std = train_df.std()\r\n",
    "train_df = (train_df - train_mean) / train_std\r\n",
    "val_df = (val_df - train_mean) / train_std\r\n",
    "test_df = (test_df - train_mean) / train_std"
   ],
   "outputs": [],
   "metadata": {}
  },
  {
   "cell_type": "markdown",
   "source": [
    "## Ventana de datos\n",
    "Los modelos de este estudio harán un conjunto de predicciones basadas en una ventana de muestras consecutivas de los datos.\n",
    "\n",
    "Esta sección se centra en implementar la ventana de datos para que pueda reutilizarse para todos los modelos.\n",
    "\n",
    "El resto de esta sección define una clase `WindowGenerator` . Esta clase permite:\n",
    "\n",
    " 1. Manejar los índices y compensaciones.\n",
    " 2. Dividir las ventanas de entidades en pares (features, labels).\n",
    " 3. Trazar el contenido de las ventanas resultantes.\n",
    " 4. Generar de manera eficiente lotes de estas ventanas a partir de los datos de entrenamiento, evaluación y prueba, utilizando `tf.data.Datasets`."
   ],
   "metadata": {}
  },
  {
   "cell_type": "markdown",
   "source": [
    "### 1. Índices y compensaciones\n",
    "Se crea la clase `WindowGenerator`. El método `__init__` incluye toda la lógica necesaria para los índices de entrada y etiqueta.\n",
    "\n",
    "También toma los marcos de datos de entrenamiento, validación y prueba como entrada. Estos se convertirán a `tf.data.Datasets` de Windows más adelante."
   ],
   "metadata": {}
  },
  {
   "cell_type": "code",
   "execution_count": 9,
   "source": [
    "class WindowGenerator():\r\n",
    "  def __init__(self, input_width, label_width, shift,\r\n",
    "               train_df=train_df, val_df=val_df, test_df=test_df,\r\n",
    "               label_columns=None):\r\n",
    "    # Store the raw data.\r\n",
    "    self.train_df = train_df\r\n",
    "    self.val_df = val_df\r\n",
    "    self.test_df = test_df\r\n",
    "\r\n",
    "    # Work out the label column indices.\r\n",
    "    self.label_columns = label_columns\r\n",
    "    if label_columns is not None:\r\n",
    "        self.label_columns_indices = {name: i for i, name in\r\n",
    "                                    enumerate(label_columns)}\r\n",
    "    self.column_indices = {name: i for i, name in\r\n",
    "                           enumerate(train_df.columns)}\r\n",
    "\r\n",
    "    # Work out the window parameters.\r\n",
    "    self.input_width = input_width\r\n",
    "    self.label_width = label_width\r\n",
    "    self.shift = shift\r\n",
    "\r\n",
    "    self.total_window_size = input_width + shift\r\n",
    "\r\n",
    "    self.input_slice = slice(0, input_width)\r\n",
    "    self.input_indices = np.arange(self.total_window_size)[self.input_slice]\r\n",
    "\r\n",
    "    self.label_start = self.total_window_size - self.label_width\r\n",
    "    self.labels_slice = slice(self.label_start, None)\r\n",
    "    self.label_indices = np.arange(self.total_window_size)[self.labels_slice]\r\n",
    "\r\n",
    "  def __repr__(self):\r\n",
    "    return '\\n'.join([\r\n",
    "        f'Total window size: {self.total_window_size}',\r\n",
    "        f'Input indices: {self.input_indices}',\r\n",
    "        f'Label indices: {self.label_indices}',\r\n",
    "        f'Label column name(s): {self.label_columns}'])"
   ],
   "outputs": [],
   "metadata": {}
  },
  {
   "cell_type": "markdown",
   "source": [
    "### 2. Split / Dividir\n",
    "Dada una lista de entradas consecutivas, el método `split_window` la convertirá en una ventana de entradas y una ventana de etiquetas."
   ],
   "metadata": {}
  },
  {
   "cell_type": "code",
   "execution_count": 10,
   "source": [
    "def split_window(self, features):\r\n",
    "    inputs = features[:, self.input_slice, :]\r\n",
    "    labels = features[:, self.labels_slice, :]\r\n",
    "    if self.label_columns is not None:\r\n",
    "        labels = tf.stack(\r\n",
    "            [labels[:, :, self.column_indices[name]] for name in self.label_columns],\r\n",
    "            axis=-1)\r\n",
    "\r\n",
    "    # Slicing doesn't preserve static shape information, so set the shapes\r\n",
    "    # manually. This way the `tf.data.Datasets` are easier to inspect.\r\n",
    "    inputs.set_shape([None, self.input_width, None])\r\n",
    "    labels.set_shape([None, self.label_width, None])\r\n",
    "\r\n",
    "    return inputs, labels\r\n",
    "\r\n",
    "WindowGenerator.split_window = split_window"
   ],
   "outputs": [],
   "metadata": {}
  },
  {
   "cell_type": "markdown",
   "source": [
    "### 3. Plot\n",
    "Método de trazado que permite una visualización simple de la ventana dividida:"
   ],
   "metadata": {}
  },
  {
   "cell_type": "code",
   "execution_count": 11,
   "source": [
    "def plot(self, model=None, plot_col=label, max_subplots=3):\r\n",
    "    inputs, labels = self.example\r\n",
    "    plt.figure(figsize=(10, 6))\r\n",
    "    plot_col_index = self.column_indices[plot_col]\r\n",
    "    max_n = min(max_subplots, len(inputs))\r\n",
    "    for n in range(max_n):\r\n",
    "        plt.subplot(max_n, 1, n+1)\r\n",
    "        plt.ylabel(f'{plot_col} [normed]')\r\n",
    "        plt.plot(self.input_indices, inputs[n, :, plot_col_index],\r\n",
    "                 label='Inputs', marker='.', zorder=-10)\r\n",
    "\r\n",
    "        if self.label_columns:\r\n",
    "            label_col_index = self.label_columns_indices.get(plot_col, None)\r\n",
    "        else:\r\n",
    "            label_col_index = plot_col_index\r\n",
    "\r\n",
    "        if label_col_index is None:\r\n",
    "            continue\r\n",
    "\r\n",
    "        plt.scatter(self.label_indices, labels[n, :, label_col_index],\r\n",
    "                    edgecolors='k', label='Labels', c='#2ca02c', s=64)\r\n",
    "        if model is not None:\r\n",
    "            predictions = model(inputs)\r\n",
    "            plt.scatter(self.label_indices, predictions[n, :, label_col_index],\r\n",
    "                        marker='X', edgecolors='k', label='Predictions',\r\n",
    "                        c='#ff7f0e', s=64)\r\n",
    "        if n == 0:\r\n",
    "            plt.legend()\r\n",
    "            \r\n",
    "    plt.xlabel('Time [h]')\r\n",
    "    plt.show()\r\n",
    "    \r\n",
    "\r\n",
    "WindowGenerator.plot = plot"
   ],
   "outputs": [],
   "metadata": {}
  },
  {
   "cell_type": "markdown",
   "source": [
    " El método `plot loss` sirve para graficar los valores de perdida en la fase de entreno y validación para ayudar a identificar si hay overfitting o underfitting"
   ],
   "metadata": {}
  },
  {
   "cell_type": "code",
   "execution_count": 12,
   "source": [
    "def plot_loss(history):\r\n",
    "    history_dict = history.history\r\n",
    "    loss_values = history_dict['loss']\r\n",
    "    val_loss_values = history_dict['val_loss']\r\n",
    "\r\n",
    "    fig = plt.figure(figsize=(5,5))\r\n",
    "    epoch = range(1,len(loss_values)+1)\r\n",
    "    plt.plot(epoch,loss_values, 'o',label='training')\r\n",
    "    plt.plot(epoch,val_loss_values, '--',label='val')\r\n",
    "    plt.xlabel(\"epoch\")\r\n",
    "    plt.ylabel(\"loss\")\r\n",
    "    plt.legend()\r\n",
    "    plt.show()\r\n",
    "    \r\n",
    "WindowGenerator.plot_loss = plot_loss"
   ],
   "outputs": [],
   "metadata": {}
  },
  {
   "cell_type": "markdown",
   "source": [
    "### 4. tf.data.Datasets\n",
    "Finalmente, el método `make_dataset` tomará una serie de tiempo `DataFrame`  y lo convertirá en un `tf.data.Dataset` de `(input_window, label_window)` usando la función `preprocessing.timeseries_dataset_from_array`."
   ],
   "metadata": {}
  },
  {
   "cell_type": "code",
   "execution_count": 13,
   "source": [
    "def make_dataset(self, data):\r\n",
    "    data = np.array(data, dtype=np.float32)\r\n",
    "    ds = tf.keras.preprocessing.timeseries_dataset_from_array(\r\n",
    "      data=data,\r\n",
    "      targets=None,\r\n",
    "      sequence_length=self.total_window_size,\r\n",
    "      sequence_stride=1,\r\n",
    "      shuffle=True,\r\n",
    "      batch_size=32,\r\n",
    "      )\r\n",
    "    ds = ds.map(self.split_window)\r\n",
    "\r\n",
    "    return ds\r\n",
    "\r\n",
    "WindowGenerator.make_dataset = make_dataset"
   ],
   "outputs": [],
   "metadata": {}
  },
  {
   "cell_type": "markdown",
   "source": [
    "El objeto `WindowGenerator` contiene datos de entrenamiento, validación y prueba. Se agregan propiedades para acceder a ellas como `tf.data.Datasets` usando el método `make_dataset` anterior."
   ],
   "metadata": {}
  },
  {
   "cell_type": "code",
   "execution_count": 14,
   "source": [
    "@property\r\n",
    "def train(self):\r\n",
    "  return self.make_dataset(self.train_df)\r\n",
    "\r\n",
    "@property\r\n",
    "def val(self):\r\n",
    "  return self.make_dataset(self.val_df)\r\n",
    "\r\n",
    "@property\r\n",
    "def test(self):\r\n",
    "  return self.make_dataset(self.test_df)\r\n",
    "\r\n",
    "@property\r\n",
    "def example(self):\r\n",
    "  \"\"\"Get and cache an example batch of `inputs, labels` for plotting.\"\"\"\r\n",
    "  result = getattr(self, '_example', None)\r\n",
    "  if result is None:\r\n",
    "    # No example batch was found, so get one from the `.train` dataset\r\n",
    "    result = next(iter(self.train))\r\n",
    "    # And cache it for next time\r\n",
    "    self._example = result\r\n",
    "  return result\r\n",
    "\r\n",
    "WindowGenerator.train = train\r\n",
    "WindowGenerator.val = val\r\n",
    "WindowGenerator.test = test\r\n",
    "WindowGenerator.example = example"
   ],
   "outputs": [],
   "metadata": {}
  },
  {
   "cell_type": "markdown",
   "source": [
    "### 5. Estadísticas\n",
    "El método `model_statistics` imprime en pantalla infromación relevante del modelo. \n",
    "Los diccionarios declarados se utilizan para guardar los resultados de las pruebas para cada modelo."
   ],
   "metadata": {}
  },
  {
   "cell_type": "code",
   "execution_count": 15,
   "source": [
    "multi_val_performance = {}\r\n",
    "multi_test_performance = {}"
   ],
   "outputs": [],
   "metadata": {}
  },
  {
   "cell_type": "code",
   "execution_count": 16,
   "source": [
    "def model_statistics(model, history, name):  \r\n",
    "    print(\"General statistics of the generated model:\")\r\n",
    "    multi_val_performance[f'{name} {multi_window.input_width}h'] = model.evaluate(multi_window.val)\r\n",
    "    print(\"Statistics of the model with the test data:\")\r\n",
    "    multi_test_performance[f'{name} {multi_window.input_width}h'] = model.evaluate(multi_window.test)\r\n",
    "    print('Model\\'s Training and Validation Loss: ')\r\n",
    "    plot_loss(history)\r\n",
    "    print('Predictions: ')\r\n",
    "    multi_window.plot(model)"
   ],
   "outputs": [],
   "metadata": {}
  },
  {
   "cell_type": "markdown",
   "source": [
    "## Creación de los modelos\n",
    "\n",
    "Para estos modelos, los datos de entrenamiento constan de muestras por hora. Aquí, los modelos aprenderán a predecir  3 horas del futuro, dadas 24 horas del pasado (indicadas en la variable `input_width`).\n",
    "\n",
    "Se genera el objeto Window que creará los cortes a partir del conjunto de datos, con los que se entrenaran los modelos en cuestión:"
   ],
   "metadata": {
    "tags": []
   }
  },
  {
   "cell_type": "code",
   "execution_count": 17,
   "source": [
    "multi_window = WindowGenerator(input_width=INPUT_WIDTH,\r\n",
    "                               label_width=OUT_STEPS,\r\n",
    "                               shift=OUT_STEPS)"
   ],
   "outputs": [],
   "metadata": {}
  },
  {
   "cell_type": "markdown",
   "source": [
    "Se crea el método `compile_and_fit` que se utilizará para compilar y entrenar los modelos que se irán proponiendo a lo largo de este documento."
   ],
   "metadata": {}
  },
  {
   "cell_type": "code",
   "execution_count": 18,
   "source": [
    "MAX_EPOCHS = 20\r\n",
    "\r\n",
    "def compile_and_fit(model, window, patience=2):\r\n",
    "    # The patience parameter is the amount of epochs to check for improvement\r\n",
    "    early_stopping = tf.keras.callbacks.EarlyStopping(monitor='val_loss',\r\n",
    "                                                    patience=patience,\r\n",
    "                                                    mode='min')\r\n",
    "\r\n",
    "    model.compile(loss=tf.losses.MeanAbsoluteError(),\r\n",
    "                optimizer=tf.optimizers.Adam(),\r\n",
    "                metrics=[tf.metrics.MeanAbsoluteError()])\r\n",
    "\r\n",
    "    history = model.fit(window.train, epochs=MAX_EPOCHS,\r\n",
    "                      validation_data=window.val,\r\n",
    "                      callbacks=[early_stopping])\r\n",
    "\r\n",
    "    return history"
   ],
   "outputs": [],
   "metadata": {}
  },
  {
   "cell_type": "markdown",
   "source": [
    "### 1. Modelo base"
   ],
   "metadata": {}
  },
  {
   "cell_type": "code",
   "execution_count": 19,
   "source": [
    "class MultiStepLastBaseline(tf.keras.Model):\r\n",
    "  def call(self, inputs):\r\n",
    "    return tf.tile(inputs[:, -1:, :], [1, OUT_STEPS, 1])\r\n",
    "\r\n",
    "last_baseline = MultiStepLastBaseline()\r\n",
    "last_baseline.compile(loss=tf.losses.MeanSquaredError(),\r\n",
    "                      metrics=[tf.metrics.MeanAbsoluteError()])"
   ],
   "outputs": [],
   "metadata": {}
  },
  {
   "cell_type": "code",
   "execution_count": 20,
   "source": [
    "print(\"Estadísticas generales del modelo entrenado:\")\r\n",
    "multi_val_performance[f'Baseline {multi_window.input_width}h'] = last_baseline.evaluate(multi_window.val)\r\n",
    "print(\"Estadísticas del modelo con los datos de test:\")\r\n",
    "multi_test_performance[f'Baseline {multi_window.input_width}h'] = last_baseline.evaluate(multi_window.test)"
   ],
   "outputs": [
    {
     "output_type": "stream",
     "name": "stdout",
     "text": [
      "Estadísticas generales del modelo entrenado:\n",
      "107/107 [==============================] - 0s 2ms/step - loss: 0.1922 - mean_absolute_error: 0.2185\n",
      "Estadísticas del modelo con los datos de test:\n",
      "53/53 [==============================] - 0s 3ms/step - loss: 0.3053 - mean_absolute_error: 0.2747\n"
     ]
    }
   ],
   "metadata": {}
  },
  {
   "cell_type": "code",
   "execution_count": 21,
   "source": [
    "multi_window.plot(last_baseline)"
   ],
   "outputs": [
    {
     "output_type": "display_data",
     "data": {
      "text/plain": [
       "<Figure size 720x432 with 3 Axes>"
      ],
      "image/png": "[encoded data removed]"
     },
     "metadata": {
      "needs_background": "light"
     }
    }
   ],
   "metadata": {}
  },
  {
   "cell_type": "markdown",
   "source": [
    "### 2. Modelo lineal"
   ],
   "metadata": {}
  },
  {
   "cell_type": "code",
   "execution_count": 22,
   "source": [
    "multi_linear_model = tf.keras.Sequential([\r\n",
    "    # Take the last time-step.\r\n",
    "    # Shape [batch, time, features] => [batch, 1, features]\r\n",
    "    tf.keras.layers.Lambda(lambda x: x[:, -1:, :]),\r\n",
    "    # Shape => [batch, 1, out_steps*features]\r\n",
    "    tf.keras.layers.Dense(OUT_STEPS*num_features,\r\n",
    "                          kernel_initializer=tf.initializers.zeros()),\r\n",
    "    # Shape => [batch, out_steps, features]\r\n",
    "    tf.keras.layers.Reshape([OUT_STEPS, num_features])\r\n",
    "])\r\n",
    "history = compile_and_fit(multi_linear_model, multi_window)\r\n",
    "IPython.display.clear_output()\r\n"
   ],
   "outputs": [],
   "metadata": {}
  },
  {
   "cell_type": "code",
   "execution_count": 23,
   "source": [
    "model_statistics(multi_linear_model, history, \"Linear\")"
   ],
   "outputs": [
    {
     "output_type": "stream",
     "name": "stdout",
     "text": [
      "General statistics of the generated model:\n",
      "107/107 [==============================] - 0s 519us/step - loss: 0.1712 - mean_absolute_error: 0.1712\n",
      "Statistics of the model with the test data:\n",
      "53/53 [==============================] - 0s 577us/step - loss: 0.2239 - mean_absolute_error: 0.2239\n",
      "Model's Training and Validation Loss: \n"
     ]
    },
    {
     "output_type": "display_data",
     "data": {
      "text/plain": [
       "<Figure size 360x360 with 1 Axes>"
      ],
      "image/png": "[encoded data removed]"
     },
     "metadata": {
      "needs_background": "light"
     }
    },
    {
     "output_type": "stream",
     "name": "stdout",
     "text": [
      "Predictions: \n"
     ]
    },
    {
     "output_type": "display_data",
     "data": {
      "text/plain": [
       "<Figure size 720x432 with 3 Axes>"
      ],
      "image/png": "[encoded data removed]"
     },
     "metadata": {
      "needs_background": "light"
     }
    }
   ],
   "metadata": {}
  },
  {
   "cell_type": "code",
   "execution_count": 24,
   "source": [
    "pd.DataFrame(history.history)"
   ],
   "outputs": [
    {
     "output_type": "execute_result",
     "data": {
      "text/plain": [
       "        loss  mean_absolute_error  val_loss  val_mean_absolute_error\n",
       "0   0.458945             0.458945  0.386308                 0.386308\n",
       "1   0.278678             0.278678  0.270686                 0.270686\n",
       "2   0.208413             0.208413  0.204784                 0.204784\n",
       "3   0.181833             0.181833  0.184568                 0.184568\n",
       "4   0.175204             0.175204  0.177643                 0.177643\n",
       "5   0.173643             0.173643  0.174131                 0.174131\n",
       "6   0.173006             0.173006  0.173257                 0.173258\n",
       "7   0.172668             0.172668  0.172680                 0.172680\n",
       "8   0.172363             0.172363  0.172093                 0.172093\n",
       "9   0.172274             0.172274  0.172059                 0.172059\n",
       "10  0.172184             0.172184  0.171593                 0.171593\n",
       "11  0.172103             0.172103  0.171559                 0.171559\n",
       "12  0.172002             0.172002  0.171395                 0.171395\n",
       "13  0.171947             0.171947  0.171575                 0.171575\n",
       "14  0.171901             0.171901  0.171216                 0.171216\n",
       "15  0.171895             0.171895  0.171131                 0.171131\n",
       "16  0.171879             0.171879  0.171006                 0.171006\n",
       "17  0.171814             0.171814  0.171143                 0.171143\n",
       "18  0.171784             0.171784  0.171167                 0.171167"
      ],
      "text/html": [
       "<div>\n",
       "<style scoped>\n",
       "    .dataframe tbody tr th:only-of-type {\n",
       "        vertical-align: middle;\n",
       "    }\n",
       "\n",
       "    .dataframe tbody tr th {\n",
       "        vertical-align: top;\n",
       "    }\n",
       "\n",
       "    .dataframe thead th {\n",
       "        text-align: right;\n",
       "    }\n",
       "</style>\n",
       "<table border=\"1\" class=\"dataframe\">\n",
       "  <thead>\n",
       "    <tr style=\"text-align: right;\">\n",
       "      <th></th>\n",
       "      <th>loss</th>\n",
       "      <th>mean_absolute_error</th>\n",
       "      <th>val_loss</th>\n",
       "      <th>val_mean_absolute_error</th>\n",
       "    </tr>\n",
       "  </thead>\n",
       "  <tbody>\n",
       "    <tr>\n",
       "      <th>0</th>\n",
       "      <td>0.458945</td>\n",
       "      <td>0.458945</td>\n",
       "      <td>0.386308</td>\n",
       "      <td>0.386308</td>\n",
       "    </tr>\n",
       "    <tr>\n",
       "      <th>1</th>\n",
       "      <td>0.278678</td>\n",
       "      <td>0.278678</td>\n",
       "      <td>0.270686</td>\n",
       "      <td>0.270686</td>\n",
       "    </tr>\n",
       "    <tr>\n",
       "      <th>2</th>\n",
       "      <td>0.208413</td>\n",
       "      <td>0.208413</td>\n",
       "      <td>0.204784</td>\n",
       "      <td>0.204784</td>\n",
       "    </tr>\n",
       "    <tr>\n",
       "      <th>3</th>\n",
       "      <td>0.181833</td>\n",
       "      <td>0.181833</td>\n",
       "      <td>0.184568</td>\n",
       "      <td>0.184568</td>\n",
       "    </tr>\n",
       "    <tr>\n",
       "      <th>4</th>\n",
       "      <td>0.175204</td>\n",
       "      <td>0.175204</td>\n",
       "      <td>0.177643</td>\n",
       "      <td>0.177643</td>\n",
       "    </tr>\n",
       "    <tr>\n",
       "      <th>5</th>\n",
       "      <td>0.173643</td>\n",
       "      <td>0.173643</td>\n",
       "      <td>0.174131</td>\n",
       "      <td>0.174131</td>\n",
       "    </tr>\n",
       "    <tr>\n",
       "      <th>6</th>\n",
       "      <td>0.173006</td>\n",
       "      <td>0.173006</td>\n",
       "      <td>0.173257</td>\n",
       "      <td>0.173258</td>\n",
       "    </tr>\n",
       "    <tr>\n",
       "      <th>7</th>\n",
       "      <td>0.172668</td>\n",
       "      <td>0.172668</td>\n",
       "      <td>0.172680</td>\n",
       "      <td>0.172680</td>\n",
       "    </tr>\n",
       "    <tr>\n",
       "      <th>8</th>\n",
       "      <td>0.172363</td>\n",
       "      <td>0.172363</td>\n",
       "      <td>0.172093</td>\n",
       "      <td>0.172093</td>\n",
       "    </tr>\n",
       "    <tr>\n",
       "      <th>9</th>\n",
       "      <td>0.172274</td>\n",
       "      <td>0.172274</td>\n",
       "      <td>0.172059</td>\n",
       "      <td>0.172059</td>\n",
       "    </tr>\n",
       "    <tr>\n",
       "      <th>10</th>\n",
       "      <td>0.172184</td>\n",
       "      <td>0.172184</td>\n",
       "      <td>0.171593</td>\n",
       "      <td>0.171593</td>\n",
       "    </tr>\n",
       "    <tr>\n",
       "      <th>11</th>\n",
       "      <td>0.172103</td>\n",
       "      <td>0.172103</td>\n",
       "      <td>0.171559</td>\n",
       "      <td>0.171559</td>\n",
       "    </tr>\n",
       "    <tr>\n",
       "      <th>12</th>\n",
       "      <td>0.172002</td>\n",
       "      <td>0.172002</td>\n",
       "      <td>0.171395</td>\n",
       "      <td>0.171395</td>\n",
       "    </tr>\n",
       "    <tr>\n",
       "      <th>13</th>\n",
       "      <td>0.171947</td>\n",
       "      <td>0.171947</td>\n",
       "      <td>0.171575</td>\n",
       "      <td>0.171575</td>\n",
       "    </tr>\n",
       "    <tr>\n",
       "      <th>14</th>\n",
       "      <td>0.171901</td>\n",
       "      <td>0.171901</td>\n",
       "      <td>0.171216</td>\n",
       "      <td>0.171216</td>\n",
       "    </tr>\n",
       "    <tr>\n",
       "      <th>15</th>\n",
       "      <td>0.171895</td>\n",
       "      <td>0.171895</td>\n",
       "      <td>0.171131</td>\n",
       "      <td>0.171131</td>\n",
       "    </tr>\n",
       "    <tr>\n",
       "      <th>16</th>\n",
       "      <td>0.171879</td>\n",
       "      <td>0.171879</td>\n",
       "      <td>0.171006</td>\n",
       "      <td>0.171006</td>\n",
       "    </tr>\n",
       "    <tr>\n",
       "      <th>17</th>\n",
       "      <td>0.171814</td>\n",
       "      <td>0.171814</td>\n",
       "      <td>0.171143</td>\n",
       "      <td>0.171143</td>\n",
       "    </tr>\n",
       "    <tr>\n",
       "      <th>18</th>\n",
       "      <td>0.171784</td>\n",
       "      <td>0.171784</td>\n",
       "      <td>0.171167</td>\n",
       "      <td>0.171167</td>\n",
       "    </tr>\n",
       "  </tbody>\n",
       "</table>\n",
       "</div>"
      ]
     },
     "metadata": {},
     "execution_count": 24
    }
   ],
   "metadata": {}
  },
  {
   "cell_type": "markdown",
   "source": [
    "### 3. Modelo denso"
   ],
   "metadata": {}
  },
  {
   "cell_type": "code",
   "execution_count": 25,
   "source": [
    "multi_dense_model = tf.keras.Sequential([\r\n",
    "    # Take the last time step.\r\n",
    "    # Shape [batch, time, features] => [batch, 1, features]\r\n",
    "    tf.keras.layers.Lambda(lambda x: x[:, -1:, :]),\r\n",
    "    # Shape => [batch, 1, dense_units]\r\n",
    "    tf.keras.layers.Dense(256, activation='relu'),\r\n",
    "    # Shape => [batch, out_steps*features]\r\n",
    "    tf.keras.layers.Dense(OUT_STEPS*num_features,\r\n",
    "                          kernel_initializer=tf.initializers.zeros()),\r\n",
    "    # Shape => [batch, out_steps, features]\r\n",
    "    tf.keras.layers.Reshape([OUT_STEPS, num_features])\r\n",
    "])\r\n",
    "\r\n",
    "history = compile_and_fit(multi_dense_model, multi_window)\r\n",
    "IPython.display.clear_output()"
   ],
   "outputs": [],
   "metadata": {}
  },
  {
   "cell_type": "code",
   "execution_count": 26,
   "source": [
    "model_statistics(multi_dense_model, history, \"Dense\")"
   ],
   "outputs": [
    {
     "output_type": "stream",
     "name": "stdout",
     "text": [
      "General statistics of the generated model:\n",
      "107/107 [==============================] - 0s 575us/step - loss: 0.1778 - mean_absolute_error: 0.1778\n",
      "Statistics of the model with the test data:\n",
      "53/53 [==============================] - 0s 558us/step - loss: 0.2437 - mean_absolute_error: 0.2437\n",
      "Model's Training and Validation Loss: \n"
     ]
    },
    {
     "output_type": "display_data",
     "data": {
      "text/plain": [
       "<Figure size 360x360 with 1 Axes>"
      ],
      "image/png": "[encoded data removed]"
     },
     "metadata": {
      "needs_background": "light"
     }
    },
    {
     "output_type": "stream",
     "name": "stdout",
     "text": [
      "Predictions: \n"
     ]
    },
    {
     "output_type": "display_data",
     "data": {
      "text/plain": [
       "<Figure size 720x432 with 3 Axes>"
      ],
      "image/png": "[encoded data removed]"
     },
     "metadata": {
      "needs_background": "light"
     }
    }
   ],
   "metadata": {}
  },
  {
   "cell_type": "code",
   "execution_count": 27,
   "source": [
    "pd.DataFrame(history.history)"
   ],
   "outputs": [
    {
     "output_type": "execute_result",
     "data": {
      "text/plain": [
       "        loss  mean_absolute_error  val_loss  val_mean_absolute_error\n",
       "0   0.256436             0.256436  0.213266                 0.213266\n",
       "1   0.181687             0.181687  0.198909                 0.198909\n",
       "2   0.176548             0.176548  0.192769                 0.192769\n",
       "3   0.173309             0.173309  0.185030                 0.185030\n",
       "4   0.170148             0.170149  0.181465                 0.181465\n",
       "5   0.168991             0.168991  0.182415                 0.182415\n",
       "6   0.167507             0.167507  0.179435                 0.179435\n",
       "7   0.166759             0.166759  0.179263                 0.179263\n",
       "8   0.165599             0.165599  0.177771                 0.177771\n",
       "9   0.164769             0.164769  0.179089                 0.179089\n",
       "10  0.164124             0.164124  0.177789                 0.177789"
      ],
      "text/html": [
       "<div>\n",
       "<style scoped>\n",
       "    .dataframe tbody tr th:only-of-type {\n",
       "        vertical-align: middle;\n",
       "    }\n",
       "\n",
       "    .dataframe tbody tr th {\n",
       "        vertical-align: top;\n",
       "    }\n",
       "\n",
       "    .dataframe thead th {\n",
       "        text-align: right;\n",
       "    }\n",
       "</style>\n",
       "<table border=\"1\" class=\"dataframe\">\n",
       "  <thead>\n",
       "    <tr style=\"text-align: right;\">\n",
       "      <th></th>\n",
       "      <th>loss</th>\n",
       "      <th>mean_absolute_error</th>\n",
       "      <th>val_loss</th>\n",
       "      <th>val_mean_absolute_error</th>\n",
       "    </tr>\n",
       "  </thead>\n",
       "  <tbody>\n",
       "    <tr>\n",
       "      <th>0</th>\n",
       "      <td>0.256436</td>\n",
       "      <td>0.256436</td>\n",
       "      <td>0.213266</td>\n",
       "      <td>0.213266</td>\n",
       "    </tr>\n",
       "    <tr>\n",
       "      <th>1</th>\n",
       "      <td>0.181687</td>\n",
       "      <td>0.181687</td>\n",
       "      <td>0.198909</td>\n",
       "      <td>0.198909</td>\n",
       "    </tr>\n",
       "    <tr>\n",
       "      <th>2</th>\n",
       "      <td>0.176548</td>\n",
       "      <td>0.176548</td>\n",
       "      <td>0.192769</td>\n",
       "      <td>0.192769</td>\n",
       "    </tr>\n",
       "    <tr>\n",
       "      <th>3</th>\n",
       "      <td>0.173309</td>\n",
       "      <td>0.173309</td>\n",
       "      <td>0.185030</td>\n",
       "      <td>0.185030</td>\n",
       "    </tr>\n",
       "    <tr>\n",
       "      <th>4</th>\n",
       "      <td>0.170148</td>\n",
       "      <td>0.170149</td>\n",
       "      <td>0.181465</td>\n",
       "      <td>0.181465</td>\n",
       "    </tr>\n",
       "    <tr>\n",
       "      <th>5</th>\n",
       "      <td>0.168991</td>\n",
       "      <td>0.168991</td>\n",
       "      <td>0.182415</td>\n",
       "      <td>0.182415</td>\n",
       "    </tr>\n",
       "    <tr>\n",
       "      <th>6</th>\n",
       "      <td>0.167507</td>\n",
       "      <td>0.167507</td>\n",
       "      <td>0.179435</td>\n",
       "      <td>0.179435</td>\n",
       "    </tr>\n",
       "    <tr>\n",
       "      <th>7</th>\n",
       "      <td>0.166759</td>\n",
       "      <td>0.166759</td>\n",
       "      <td>0.179263</td>\n",
       "      <td>0.179263</td>\n",
       "    </tr>\n",
       "    <tr>\n",
       "      <th>8</th>\n",
       "      <td>0.165599</td>\n",
       "      <td>0.165599</td>\n",
       "      <td>0.177771</td>\n",
       "      <td>0.177771</td>\n",
       "    </tr>\n",
       "    <tr>\n",
       "      <th>9</th>\n",
       "      <td>0.164769</td>\n",
       "      <td>0.164769</td>\n",
       "      <td>0.179089</td>\n",
       "      <td>0.179089</td>\n",
       "    </tr>\n",
       "    <tr>\n",
       "      <th>10</th>\n",
       "      <td>0.164124</td>\n",
       "      <td>0.164124</td>\n",
       "      <td>0.177789</td>\n",
       "      <td>0.177789</td>\n",
       "    </tr>\n",
       "  </tbody>\n",
       "</table>\n",
       "</div>"
      ]
     },
     "metadata": {},
     "execution_count": 27
    }
   ],
   "metadata": {}
  },
  {
   "cell_type": "markdown",
   "source": [
    "### 4. Modelo CNN\n"
   ],
   "metadata": {}
  },
  {
   "cell_type": "code",
   "execution_count": 28,
   "source": [
    "CONV_WIDTH = 3\r\n",
    "multi_conv_model_1 = tf.keras.Sequential([\r\n",
    "    # Shape [batch, time, features] => [batch, CONV_WIDTH, features]\r\n",
    "    tf.keras.layers.Lambda(lambda x: x[:, -CONV_WIDTH:, :]),\r\n",
    "    # Shape => [batch, 1, conv_units]\r\n",
    "    tf.keras.layers.Conv1D(256, activation='relu', kernel_size=(CONV_WIDTH)),\r\n",
    "    # Shape => [batch, 1,  out_steps*features]\r\n",
    "    tf.keras.layers.Dense(OUT_STEPS*num_features,\r\n",
    "                          kernel_initializer=tf.initializers.zeros()),\r\n",
    "    # Shape => [batch, out_steps, features]\r\n",
    "    tf.keras.layers.Reshape([OUT_STEPS, num_features])\r\n",
    "])\r\n",
    "\r\n",
    "history = compile_and_fit(multi_conv_model_1, multi_window)\r\n",
    "IPython.display.clear_output()"
   ],
   "outputs": [],
   "metadata": {}
  },
  {
   "cell_type": "code",
   "execution_count": 29,
   "source": [
    "model_statistics(multi_conv_model_1, history, \"Conv\")"
   ],
   "outputs": [
    {
     "output_type": "stream",
     "name": "stdout",
     "text": [
      "General statistics of the generated model:\n",
      "107/107 [==============================] - 0s 575us/step - loss: 0.1871 - mean_absolute_error: 0.1871\n",
      "Statistics of the model with the test data:\n",
      "53/53 [==============================] - 0s 596us/step - loss: 0.2541 - mean_absolute_error: 0.2541\n",
      "Model's Training and Validation Loss: \n"
     ]
    },
    {
     "output_type": "display_data",
     "data": {
      "text/plain": [
       "<Figure size 360x360 with 1 Axes>"
      ],
      "image/png": "[encoded data removed]"
     },
     "metadata": {
      "needs_background": "light"
     }
    },
    {
     "output_type": "stream",
     "name": "stdout",
     "text": [
      "Predictions: \n"
     ]
    },
    {
     "output_type": "display_data",
     "data": {
      "text/plain": [
       "<Figure size 720x432 with 3 Axes>"
      ],
      "image/png": "[encoded data removed]"
     },
     "metadata": {
      "needs_background": "light"
     }
    }
   ],
   "metadata": {}
  },
  {
   "cell_type": "code",
   "execution_count": 30,
   "source": [
    "pd.DataFrame(history.history)"
   ],
   "outputs": [
    {
     "output_type": "execute_result",
     "data": {
      "text/plain": [
       "       loss  mean_absolute_error  val_loss  val_mean_absolute_error\n",
       "0  0.259450             0.259450  0.229188                 0.229188\n",
       "1  0.186998             0.186998  0.209077                 0.209077\n",
       "2  0.178596             0.178596  0.198301                 0.198301\n",
       "3  0.172676             0.172676  0.195054                 0.195054\n",
       "4  0.170152             0.170152  0.190142                 0.190142\n",
       "5  0.168097             0.168097  0.186876                 0.186876\n",
       "6  0.166162             0.166162  0.186651                 0.186651\n",
       "7  0.165177             0.165177  0.181333                 0.181333\n",
       "8  0.163680             0.163680  0.185804                 0.185804\n",
       "9  0.162873             0.162873  0.187075                 0.187075"
      ],
      "text/html": [
       "<div>\n",
       "<style scoped>\n",
       "    .dataframe tbody tr th:only-of-type {\n",
       "        vertical-align: middle;\n",
       "    }\n",
       "\n",
       "    .dataframe tbody tr th {\n",
       "        vertical-align: top;\n",
       "    }\n",
       "\n",
       "    .dataframe thead th {\n",
       "        text-align: right;\n",
       "    }\n",
       "</style>\n",
       "<table border=\"1\" class=\"dataframe\">\n",
       "  <thead>\n",
       "    <tr style=\"text-align: right;\">\n",
       "      <th></th>\n",
       "      <th>loss</th>\n",
       "      <th>mean_absolute_error</th>\n",
       "      <th>val_loss</th>\n",
       "      <th>val_mean_absolute_error</th>\n",
       "    </tr>\n",
       "  </thead>\n",
       "  <tbody>\n",
       "    <tr>\n",
       "      <th>0</th>\n",
       "      <td>0.259450</td>\n",
       "      <td>0.259450</td>\n",
       "      <td>0.229188</td>\n",
       "      <td>0.229188</td>\n",
       "    </tr>\n",
       "    <tr>\n",
       "      <th>1</th>\n",
       "      <td>0.186998</td>\n",
       "      <td>0.186998</td>\n",
       "      <td>0.209077</td>\n",
       "      <td>0.209077</td>\n",
       "    </tr>\n",
       "    <tr>\n",
       "      <th>2</th>\n",
       "      <td>0.178596</td>\n",
       "      <td>0.178596</td>\n",
       "      <td>0.198301</td>\n",
       "      <td>0.198301</td>\n",
       "    </tr>\n",
       "    <tr>\n",
       "      <th>3</th>\n",
       "      <td>0.172676</td>\n",
       "      <td>0.172676</td>\n",
       "      <td>0.195054</td>\n",
       "      <td>0.195054</td>\n",
       "    </tr>\n",
       "    <tr>\n",
       "      <th>4</th>\n",
       "      <td>0.170152</td>\n",
       "      <td>0.170152</td>\n",
       "      <td>0.190142</td>\n",
       "      <td>0.190142</td>\n",
       "    </tr>\n",
       "    <tr>\n",
       "      <th>5</th>\n",
       "      <td>0.168097</td>\n",
       "      <td>0.168097</td>\n",
       "      <td>0.186876</td>\n",
       "      <td>0.186876</td>\n",
       "    </tr>\n",
       "    <tr>\n",
       "      <th>6</th>\n",
       "      <td>0.166162</td>\n",
       "      <td>0.166162</td>\n",
       "      <td>0.186651</td>\n",
       "      <td>0.186651</td>\n",
       "    </tr>\n",
       "    <tr>\n",
       "      <th>7</th>\n",
       "      <td>0.165177</td>\n",
       "      <td>0.165177</td>\n",
       "      <td>0.181333</td>\n",
       "      <td>0.181333</td>\n",
       "    </tr>\n",
       "    <tr>\n",
       "      <th>8</th>\n",
       "      <td>0.163680</td>\n",
       "      <td>0.163680</td>\n",
       "      <td>0.185804</td>\n",
       "      <td>0.185804</td>\n",
       "    </tr>\n",
       "    <tr>\n",
       "      <th>9</th>\n",
       "      <td>0.162873</td>\n",
       "      <td>0.162873</td>\n",
       "      <td>0.187075</td>\n",
       "      <td>0.187075</td>\n",
       "    </tr>\n",
       "  </tbody>\n",
       "</table>\n",
       "</div>"
      ]
     },
     "metadata": {},
     "execution_count": 30
    }
   ],
   "metadata": {}
  },
  {
   "cell_type": "markdown",
   "source": [
    "Se prueba el mismo modelo pero con menos neuronas en la segunda capa"
   ],
   "metadata": {}
  },
  {
   "cell_type": "code",
   "execution_count": 31,
   "source": [
    "CONV_WIDTH = 3\r\n",
    "multi_conv_model_2 = tf.keras.Sequential([\r\n",
    "    # Shape [batch, time, features] => [batch, CONV_WIDTH, features]\r\n",
    "    tf.keras.layers.Lambda(lambda x: x[:, -CONV_WIDTH:, :]),\r\n",
    "    # Shape => [batch, 1, conv_units]\r\n",
    "    tf.keras.layers.Conv1D(128, activation='relu', kernel_size=(CONV_WIDTH)),\r\n",
    "    # Shape => [batch, 1,  out_steps*features]\r\n",
    "    tf.keras.layers.Dense(OUT_STEPS*num_features,\r\n",
    "                          kernel_initializer=tf.initializers.zeros()),\r\n",
    "    # Shape => [batch, out_steps, features]\r\n",
    "    tf.keras.layers.Reshape([OUT_STEPS, num_features])\r\n",
    "])\r\n",
    "\r\n",
    "history = compile_and_fit(multi_conv_model_2, multi_window)\r\n",
    "IPython.display.clear_output()"
   ],
   "outputs": [],
   "metadata": {}
  },
  {
   "cell_type": "code",
   "execution_count": 32,
   "source": [
    "model_statistics(multi_conv_model_2, history, \"Conv\")"
   ],
   "outputs": [
    {
     "output_type": "stream",
     "name": "stdout",
     "text": [
      "General statistics of the generated model:\n",
      "107/107 [==============================] - 0s 538us/step - loss: 0.1799 - mean_absolute_error: 0.1799\n",
      "Statistics of the model with the test data:\n",
      "53/53 [==============================] - 0s 577us/step - loss: 0.2455 - mean_absolute_error: 0.2455\n",
      "Model's Training and Validation Loss: \n"
     ]
    },
    {
     "output_type": "display_data",
     "data": {
      "text/plain": [
       "<Figure size 360x360 with 1 Axes>"
      ],
      "image/png": "[encoded data removed]"
     },
     "metadata": {
      "needs_background": "light"
     }
    },
    {
     "output_type": "stream",
     "name": "stdout",
     "text": [
      "Predictions: \n"
     ]
    },
    {
     "output_type": "display_data",
     "data": {
      "text/plain": [
       "<Figure size 720x432 with 3 Axes>"
      ],
      "image/png": "[encoded data removed]"
     },
     "metadata": {
      "needs_background": "light"
     }
    }
   ],
   "metadata": {}
  },
  {
   "cell_type": "code",
   "execution_count": 33,
   "source": [
    "pd.DataFrame(history.history)"
   ],
   "outputs": [
    {
     "output_type": "execute_result",
     "data": {
      "text/plain": [
       "        loss  mean_absolute_error  val_loss  val_mean_absolute_error\n",
       "0   0.285826             0.285826  0.241393                 0.241393\n",
       "1   0.196879             0.196878  0.218879                 0.218879\n",
       "2   0.186210             0.186210  0.212472                 0.212472\n",
       "3   0.181328             0.181328  0.208875                 0.208875\n",
       "4   0.177743             0.177743  0.202069                 0.202069\n",
       "5   0.174813             0.174813  0.196621                 0.196621\n",
       "6   0.172594             0.172594  0.192520                 0.192520\n",
       "7   0.169578             0.169578  0.185136                 0.185136\n",
       "8   0.168136             0.168136  0.183764                 0.183765\n",
       "9   0.166723             0.166723  0.184206                 0.184206\n",
       "10  0.165755             0.165755  0.180398                 0.180398\n",
       "11  0.164671             0.164671  0.179732                 0.179732\n",
       "12  0.163563             0.163563  0.181323                 0.181323\n",
       "13  0.163093             0.163093  0.178168                 0.178168\n",
       "14  0.162372             0.162372  0.179769                 0.179769\n",
       "15  0.161532             0.161532  0.179871                 0.179871"
      ],
      "text/html": [
       "<div>\n",
       "<style scoped>\n",
       "    .dataframe tbody tr th:only-of-type {\n",
       "        vertical-align: middle;\n",
       "    }\n",
       "\n",
       "    .dataframe tbody tr th {\n",
       "        vertical-align: top;\n",
       "    }\n",
       "\n",
       "    .dataframe thead th {\n",
       "        text-align: right;\n",
       "    }\n",
       "</style>\n",
       "<table border=\"1\" class=\"dataframe\">\n",
       "  <thead>\n",
       "    <tr style=\"text-align: right;\">\n",
       "      <th></th>\n",
       "      <th>loss</th>\n",
       "      <th>mean_absolute_error</th>\n",
       "      <th>val_loss</th>\n",
       "      <th>val_mean_absolute_error</th>\n",
       "    </tr>\n",
       "  </thead>\n",
       "  <tbody>\n",
       "    <tr>\n",
       "      <th>0</th>\n",
       "      <td>0.285826</td>\n",
       "      <td>0.285826</td>\n",
       "      <td>0.241393</td>\n",
       "      <td>0.241393</td>\n",
       "    </tr>\n",
       "    <tr>\n",
       "      <th>1</th>\n",
       "      <td>0.196879</td>\n",
       "      <td>0.196878</td>\n",
       "      <td>0.218879</td>\n",
       "      <td>0.218879</td>\n",
       "    </tr>\n",
       "    <tr>\n",
       "      <th>2</th>\n",
       "      <td>0.186210</td>\n",
       "      <td>0.186210</td>\n",
       "      <td>0.212472</td>\n",
       "      <td>0.212472</td>\n",
       "    </tr>\n",
       "    <tr>\n",
       "      <th>3</th>\n",
       "      <td>0.181328</td>\n",
       "      <td>0.181328</td>\n",
       "      <td>0.208875</td>\n",
       "      <td>0.208875</td>\n",
       "    </tr>\n",
       "    <tr>\n",
       "      <th>4</th>\n",
       "      <td>0.177743</td>\n",
       "      <td>0.177743</td>\n",
       "      <td>0.202069</td>\n",
       "      <td>0.202069</td>\n",
       "    </tr>\n",
       "    <tr>\n",
       "      <th>5</th>\n",
       "      <td>0.174813</td>\n",
       "      <td>0.174813</td>\n",
       "      <td>0.196621</td>\n",
       "      <td>0.196621</td>\n",
       "    </tr>\n",
       "    <tr>\n",
       "      <th>6</th>\n",
       "      <td>0.172594</td>\n",
       "      <td>0.172594</td>\n",
       "      <td>0.192520</td>\n",
       "      <td>0.192520</td>\n",
       "    </tr>\n",
       "    <tr>\n",
       "      <th>7</th>\n",
       "      <td>0.169578</td>\n",
       "      <td>0.169578</td>\n",
       "      <td>0.185136</td>\n",
       "      <td>0.185136</td>\n",
       "    </tr>\n",
       "    <tr>\n",
       "      <th>8</th>\n",
       "      <td>0.168136</td>\n",
       "      <td>0.168136</td>\n",
       "      <td>0.183764</td>\n",
       "      <td>0.183765</td>\n",
       "    </tr>\n",
       "    <tr>\n",
       "      <th>9</th>\n",
       "      <td>0.166723</td>\n",
       "      <td>0.166723</td>\n",
       "      <td>0.184206</td>\n",
       "      <td>0.184206</td>\n",
       "    </tr>\n",
       "    <tr>\n",
       "      <th>10</th>\n",
       "      <td>0.165755</td>\n",
       "      <td>0.165755</td>\n",
       "      <td>0.180398</td>\n",
       "      <td>0.180398</td>\n",
       "    </tr>\n",
       "    <tr>\n",
       "      <th>11</th>\n",
       "      <td>0.164671</td>\n",
       "      <td>0.164671</td>\n",
       "      <td>0.179732</td>\n",
       "      <td>0.179732</td>\n",
       "    </tr>\n",
       "    <tr>\n",
       "      <th>12</th>\n",
       "      <td>0.163563</td>\n",
       "      <td>0.163563</td>\n",
       "      <td>0.181323</td>\n",
       "      <td>0.181323</td>\n",
       "    </tr>\n",
       "    <tr>\n",
       "      <th>13</th>\n",
       "      <td>0.163093</td>\n",
       "      <td>0.163093</td>\n",
       "      <td>0.178168</td>\n",
       "      <td>0.178168</td>\n",
       "    </tr>\n",
       "    <tr>\n",
       "      <th>14</th>\n",
       "      <td>0.162372</td>\n",
       "      <td>0.162372</td>\n",
       "      <td>0.179769</td>\n",
       "      <td>0.179769</td>\n",
       "    </tr>\n",
       "    <tr>\n",
       "      <th>15</th>\n",
       "      <td>0.161532</td>\n",
       "      <td>0.161532</td>\n",
       "      <td>0.179871</td>\n",
       "      <td>0.179871</td>\n",
       "    </tr>\n",
       "  </tbody>\n",
       "</table>\n",
       "</div>"
      ]
     },
     "metadata": {},
     "execution_count": 33
    }
   ],
   "metadata": {}
  },
  {
   "cell_type": "markdown",
   "source": [
    "### 5. Modelo RNN\n"
   ],
   "metadata": {}
  },
  {
   "cell_type": "code",
   "execution_count": 34,
   "source": [
    "multi_lstm_model = tf.keras.Sequential([\r\n",
    "    # Shape [batch, time, features] => [batch, lstm_units]\r\n",
    "    # Adding more `lstm_units` just overfits more quickly.\r\n",
    "    tf.keras.layers.LSTM(32, return_sequences=False),\r\n",
    "    # Shape => [batch, out_steps*features]\r\n",
    "    tf.keras.layers.Dense(OUT_STEPS*num_features,\r\n",
    "                          kernel_initializer=tf.initializers.zeros()),\r\n",
    "    # Shape => [batch, out_steps, features]\r\n",
    "    tf.keras.layers.Reshape([OUT_STEPS, num_features])\r\n",
    "])\r\n",
    "\r\n",
    "history = compile_and_fit(multi_lstm_model, multi_window)\r\n",
    "IPython.display.clear_output()"
   ],
   "outputs": [],
   "metadata": {}
  },
  {
   "cell_type": "code",
   "execution_count": 35,
   "source": [
    "model_statistics(multi_lstm_model, history, \"LSTM\")"
   ],
   "outputs": [
    {
     "output_type": "stream",
     "name": "stdout",
     "text": [
      "General statistics of the generated model:\n",
      "107/107 [==============================] - 0s 2ms/step - loss: 0.1908 - mean_absolute_error: 0.1908\n",
      "Statistics of the model with the test data:\n",
      "53/53 [==============================] - 0s 2ms/step - loss: 0.2225 - mean_absolute_error: 0.2225\n",
      "Model's Training and Validation Loss: \n"
     ]
    },
    {
     "output_type": "display_data",
     "data": {
      "text/plain": [
       "<Figure size 360x360 with 1 Axes>"
      ],
      "image/png": "[encoded data removed]"
     },
     "metadata": {
      "needs_background": "light"
     }
    },
    {
     "output_type": "stream",
     "name": "stdout",
     "text": [
      "Predictions: \n"
     ]
    },
    {
     "output_type": "display_data",
     "data": {
      "text/plain": [
       "<Figure size 720x432 with 3 Axes>"
      ],
      "image/png": "[encoded data removed]"
     },
     "metadata": {
      "needs_background": "light"
     }
    }
   ],
   "metadata": {}
  },
  {
   "cell_type": "code",
   "execution_count": 36,
   "source": [
    "pd.DataFrame(history.history)"
   ],
   "outputs": [
    {
     "output_type": "execute_result",
     "data": {
      "text/plain": [
       "        loss  mean_absolute_error  val_loss  val_mean_absolute_error\n",
       "0   0.445378             0.445378  0.380817                 0.380817\n",
       "1   0.261660             0.261660  0.286079                 0.286079\n",
       "2   0.216055             0.216055  0.245154                 0.245154\n",
       "3   0.197693             0.197693  0.227085                 0.227085\n",
       "4   0.188423             0.188423  0.216621                 0.216621\n",
       "5   0.182926             0.182926  0.210170                 0.210170\n",
       "6   0.178946             0.178946  0.205976                 0.205976\n",
       "7   0.176184             0.176184  0.203907                 0.203907\n",
       "8   0.174067             0.174067  0.201607                 0.201607\n",
       "9   0.172218             0.172218  0.198985                 0.198985\n",
       "10  0.170535             0.170535  0.197820                 0.197820\n",
       "11  0.169140             0.169140  0.196509                 0.196509\n",
       "12  0.168026             0.168026  0.195626                 0.195626\n",
       "13  0.166968             0.166968  0.195065                 0.195065\n",
       "14  0.166012             0.166012  0.193336                 0.193336\n",
       "15  0.165231             0.165231  0.192730                 0.192730\n",
       "16  0.164467             0.164467  0.192941                 0.192941\n",
       "17  0.163827             0.163827  0.192094                 0.192094\n",
       "18  0.163287             0.163287  0.191500                 0.191501\n",
       "19  0.162797             0.162797  0.190761                 0.190761"
      ],
      "text/html": [
       "<div>\n",
       "<style scoped>\n",
       "    .dataframe tbody tr th:only-of-type {\n",
       "        vertical-align: middle;\n",
       "    }\n",
       "\n",
       "    .dataframe tbody tr th {\n",
       "        vertical-align: top;\n",
       "    }\n",
       "\n",
       "    .dataframe thead th {\n",
       "        text-align: right;\n",
       "    }\n",
       "</style>\n",
       "<table border=\"1\" class=\"dataframe\">\n",
       "  <thead>\n",
       "    <tr style=\"text-align: right;\">\n",
       "      <th></th>\n",
       "      <th>loss</th>\n",
       "      <th>mean_absolute_error</th>\n",
       "      <th>val_loss</th>\n",
       "      <th>val_mean_absolute_error</th>\n",
       "    </tr>\n",
       "  </thead>\n",
       "  <tbody>\n",
       "    <tr>\n",
       "      <th>0</th>\n",
       "      <td>0.445378</td>\n",
       "      <td>0.445378</td>\n",
       "      <td>0.380817</td>\n",
       "      <td>0.380817</td>\n",
       "    </tr>\n",
       "    <tr>\n",
       "      <th>1</th>\n",
       "      <td>0.261660</td>\n",
       "      <td>0.261660</td>\n",
       "      <td>0.286079</td>\n",
       "      <td>0.286079</td>\n",
       "    </tr>\n",
       "    <tr>\n",
       "      <th>2</th>\n",
       "      <td>0.216055</td>\n",
       "      <td>0.216055</td>\n",
       "      <td>0.245154</td>\n",
       "      <td>0.245154</td>\n",
       "    </tr>\n",
       "    <tr>\n",
       "      <th>3</th>\n",
       "      <td>0.197693</td>\n",
       "      <td>0.197693</td>\n",
       "      <td>0.227085</td>\n",
       "      <td>0.227085</td>\n",
       "    </tr>\n",
       "    <tr>\n",
       "      <th>4</th>\n",
       "      <td>0.188423</td>\n",
       "      <td>0.188423</td>\n",
       "      <td>0.216621</td>\n",
       "      <td>0.216621</td>\n",
       "    </tr>\n",
       "    <tr>\n",
       "      <th>5</th>\n",
       "      <td>0.182926</td>\n",
       "      <td>0.182926</td>\n",
       "      <td>0.210170</td>\n",
       "      <td>0.210170</td>\n",
       "    </tr>\n",
       "    <tr>\n",
       "      <th>6</th>\n",
       "      <td>0.178946</td>\n",
       "      <td>0.178946</td>\n",
       "      <td>0.205976</td>\n",
       "      <td>0.205976</td>\n",
       "    </tr>\n",
       "    <tr>\n",
       "      <th>7</th>\n",
       "      <td>0.176184</td>\n",
       "      <td>0.176184</td>\n",
       "      <td>0.203907</td>\n",
       "      <td>0.203907</td>\n",
       "    </tr>\n",
       "    <tr>\n",
       "      <th>8</th>\n",
       "      <td>0.174067</td>\n",
       "      <td>0.174067</td>\n",
       "      <td>0.201607</td>\n",
       "      <td>0.201607</td>\n",
       "    </tr>\n",
       "    <tr>\n",
       "      <th>9</th>\n",
       "      <td>0.172218</td>\n",
       "      <td>0.172218</td>\n",
       "      <td>0.198985</td>\n",
       "      <td>0.198985</td>\n",
       "    </tr>\n",
       "    <tr>\n",
       "      <th>10</th>\n",
       "      <td>0.170535</td>\n",
       "      <td>0.170535</td>\n",
       "      <td>0.197820</td>\n",
       "      <td>0.197820</td>\n",
       "    </tr>\n",
       "    <tr>\n",
       "      <th>11</th>\n",
       "      <td>0.169140</td>\n",
       "      <td>0.169140</td>\n",
       "      <td>0.196509</td>\n",
       "      <td>0.196509</td>\n",
       "    </tr>\n",
       "    <tr>\n",
       "      <th>12</th>\n",
       "      <td>0.168026</td>\n",
       "      <td>0.168026</td>\n",
       "      <td>0.195626</td>\n",
       "      <td>0.195626</td>\n",
       "    </tr>\n",
       "    <tr>\n",
       "      <th>13</th>\n",
       "      <td>0.166968</td>\n",
       "      <td>0.166968</td>\n",
       "      <td>0.195065</td>\n",
       "      <td>0.195065</td>\n",
       "    </tr>\n",
       "    <tr>\n",
       "      <th>14</th>\n",
       "      <td>0.166012</td>\n",
       "      <td>0.166012</td>\n",
       "      <td>0.193336</td>\n",
       "      <td>0.193336</td>\n",
       "    </tr>\n",
       "    <tr>\n",
       "      <th>15</th>\n",
       "      <td>0.165231</td>\n",
       "      <td>0.165231</td>\n",
       "      <td>0.192730</td>\n",
       "      <td>0.192730</td>\n",
       "    </tr>\n",
       "    <tr>\n",
       "      <th>16</th>\n",
       "      <td>0.164467</td>\n",
       "      <td>0.164467</td>\n",
       "      <td>0.192941</td>\n",
       "      <td>0.192941</td>\n",
       "    </tr>\n",
       "    <tr>\n",
       "      <th>17</th>\n",
       "      <td>0.163827</td>\n",
       "      <td>0.163827</td>\n",
       "      <td>0.192094</td>\n",
       "      <td>0.192094</td>\n",
       "    </tr>\n",
       "    <tr>\n",
       "      <th>18</th>\n",
       "      <td>0.163287</td>\n",
       "      <td>0.163287</td>\n",
       "      <td>0.191500</td>\n",
       "      <td>0.191501</td>\n",
       "    </tr>\n",
       "    <tr>\n",
       "      <th>19</th>\n",
       "      <td>0.162797</td>\n",
       "      <td>0.162797</td>\n",
       "      <td>0.190761</td>\n",
       "      <td>0.190761</td>\n",
       "    </tr>\n",
       "  </tbody>\n",
       "</table>\n",
       "</div>"
      ]
     },
     "metadata": {},
     "execution_count": 36
    }
   ],
   "metadata": {}
  },
  {
   "cell_type": "markdown",
   "source": [
    "Se guardan los modelos y sus estadísticas:"
   ],
   "metadata": {}
  },
  {
   "cell_type": "code",
   "execution_count": 37,
   "source": [
    "models_path = os.getcwd().split(\"models_analysis\")[0] + \"all_models\\\\new_models\""
   ],
   "outputs": [],
   "metadata": {}
  },
  {
   "cell_type": "code",
   "execution_count": 38,
   "source": [
    "multi_linear_model.save(f'{models_path}/multi_linear_model_input_{INPUT_WIDTH}_out_{OUT_STEPS}.h5')\r\n",
    "multi_dense_model.save(f'{models_path}/multi_dense_model_input_{INPUT_WIDTH}_out_{OUT_STEPS}.h5')\r\n",
    "multi_conv_model_1.save(f'{models_path}/multi_conv_model_1_input_{INPUT_WIDTH}_out_{OUT_STEPS}.h5')\r\n",
    "multi_conv_model_2.save(f'{models_path}/multi_conv_model_2_input_{INPUT_WIDTH}_out_{OUT_STEPS}.h5')\r\n",
    "multi_lstm_model.save(f'{models_path}/multi_lstm_model_input_{INPUT_WIDTH}_out_{OUT_STEPS}.h5')"
   ],
   "outputs": [],
   "metadata": {}
  },
  {
   "cell_type": "code",
   "execution_count": 39,
   "source": [
    "multi_performance = {'Validation': multi_val_performance, 'Test': multi_test_performance}\r\n",
    "tf = open(f\"{models_path}/statistics/statistics_input_width_{INPUT_WIDTH}_out_steps_{OUT_STEPS}.json\", \"w\")\r\n",
    "json.dump(multi_performance,tf)\r\n",
    "tf.close()"
   ],
   "outputs": [],
   "metadata": {}
  },
  {
   "cell_type": "markdown",
   "source": [
    "Referencias: Apache License, Version 2.0 . (17 de 06 de 2021). Time series forecasting  |  TensorFlow Core. Obtenido de TensorFlow: https://www.tensorflow.org/tutorials/structured_data/time_series"
   ],
   "metadata": {}
  }
 ],
 "metadata": {
  "kernelspec": {
   "name": "python3",
   "display_name": "Python 3.8.7 64-bit"
  },
  "language_info": {
   "codemirror_mode": {
    "name": "ipython",
    "version": 3
   },
   "file_extension": ".py",
   "mimetype": "text/x-python",
   "name": "python",
   "nbconvert_exporter": "python",
   "pygments_lexer": "ipython3",
   "version": "3.8.7"
  },
  "interpreter": {
   "hash": "cb266bb19b0d3845cfd44a8e13f5fd510eef317810cd30fbde3182944861c85f"
  }
 },
 "nbformat": 4,
 "nbformat_minor": 5
}